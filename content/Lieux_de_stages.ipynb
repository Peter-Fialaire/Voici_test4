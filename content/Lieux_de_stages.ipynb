{
  "cells": [
    {
      "cell_type": "code",
      "execution_count": null,
      "metadata": {
        "trusted": true
      },
      "outputs": [],
      "source": [
        "# import piplite\n",
        "# await piplite.install([\"ipywidgets\"])\n",
        "# await piplite.install([\"ipyleaflet\"])"
      ]
    },
    {
      "cell_type": "code",
      "execution_count": null,
      "metadata": {},
      "outputs": [],
      "source": [
        "import pandas as pd\n",
        "# import pyodide\n",
        "\n",
        "url = \"https://raw.githubusercontent.com/Peter-Fialaire/Voici_test4/main/content/Entreprises_Complet2.csv\"\n",
        "\n",
        "Data_Frame = pd.read_csv(pyodide.http.open_url(url), sep=\";\")\n",
        "Data_Frame"
      ]
    }
  ],
  "metadata": {
    "kernelspec": {
      "display_name": "Python (Pyodide)",
      "language": "python",
      "name": "python"
    },
    "language_info": {
      "codemirror_mode": {
        "name": "python",
        "version": 3
      },
      "file_extension": ".py",
      "mimetype": "text/x-python",
      "name": "python",
      "nbconvert_exporter": "python",
      "pygments_lexer": "ipython3",
      "version": "3.8"
    }
  },
  "nbformat": 4,
  "nbformat_minor": 4
}
