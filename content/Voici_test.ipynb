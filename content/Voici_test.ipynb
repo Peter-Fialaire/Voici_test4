{
 "cells": [
  {
   "cell_type": "code",
   "execution_count": 1,
   "id": "854a9520",
   "metadata": {},
   "outputs": [
    {
     "name": "stdout",
     "output_type": "stream",
     "text": [
      ".\\.ipynb_checkpoints\n",
      ".\\Travail_Linux\n",
      ".\\Adresse_depot_travail_Linux.txt\n",
      ".\\android.png\n",
      ".\\commandesShell.pdf\n",
      ".\\complements-commandes.pdf\n",
      ".\\Computer_Vision_Fialaire.ipynb\n",
      ".\\Cours_TD_OS_Linux.pdf\n",
      ".\\En_gris.py\n",
      ".\\First.jpg\n",
      ".\\FirtsIBMApplejpg.jpg\n",
      ".\\GMINAIO.jpg\n",
      ".\\Import_modules_python_dans_Linux.txt\n",
      ".\\installation_linux_new.txt\n",
      ".\\Lancement_wsl.txt\n",
      ".\\linux.jpg\n",
      ".\\NSI_1ere_Chapitre_12_Systeme_exploitation_N°1.ipynb\n",
      ".\\NSI_1ere_Chapitre_1_Algorithmique_N°1.ipynb\n",
      ".\\perm.jpg\n",
      ".\\seance1-bash.pdf\n",
      ".\\seance2-bash.pdf\n",
      ".\\second.jpg\n",
      ".\\Suite_recherche_linux.txt\n",
      ".\\Test_chmod.txt\n",
      ".\\tp2.pdf\n",
      ".\\tp3.pdf\n",
      ".\\Voici_test.ipynb\n",
      ".\\.ipynb_checkpoints\\NSI_1ere_Chapitre_12_Systeme_exploitation_N°1-checkpoint.ipynb\n",
      ".\\.ipynb_checkpoints\\NSI_1ere_Chapitre_1_Algorithmique_N°1-checkpoint.ipynb\n",
      ".\\.ipynb_checkpoints\\Voici_test-checkpoint.ipynb\n",
      ".\\Travail_Linux\\Unix\n",
      ".\\Travail_Linux\\Unix\\TP1\n",
      ".\\Travail_Linux\\Unix\\TP2\n"
     ]
    }
   ],
   "source": [
    "import os\n",
    "\n",
    "for dirname, dirnames, filenames in os.walk('.'):\n",
    "    # print path to all subdirectories first.\n",
    "    for subdirname in dirnames:\n",
    "        print(os.path.join(dirname, subdirname))\n",
    "\n",
    "    # print path to all filenames.\n",
    "    for filename in filenames:\n",
    "        print(os.path.join(dirname, filename))\n",
    "\n",
    "    # Advanced usage:\n",
    "    # editing the 'dirnames' list will stop os.walk() from recursing into there.\n",
    "    if '.git' in dirnames:\n",
    "        # don't go into any .git directories.\n",
    "        dirnames.remove('.git')"
   ]
  },
  {
   "cell_type": "code",
   "execution_count": null,
   "id": "0a4a92ee",
   "metadata": {},
   "outputs": [],
   "source": []
  }
 ],
 "metadata": {
  "kernelspec": {
   "display_name": "Python 3 (ipykernel)",
   "language": "python",
   "name": "python3"
  },
  "language_info": {
   "codemirror_mode": {
    "name": "ipython",
    "version": 3
   },
   "file_extension": ".py",
   "mimetype": "text/x-python",
   "name": "python",
   "nbconvert_exporter": "python",
   "pygments_lexer": "ipython3",
   "version": "3.9.13"
  }
 },
 "nbformat": 4,
 "nbformat_minor": 5
}
